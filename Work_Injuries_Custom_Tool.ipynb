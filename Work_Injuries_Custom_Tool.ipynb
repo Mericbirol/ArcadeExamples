{
 "cells": [
  {
   "cell_type": "code",
   "execution_count": 2,
   "metadata": {},
   "outputs": [],
   "source": [
    "#-----------------------------\n",
    "'''\n",
    "Name: Work Injuries Tool\n",
    "Created on 12/04/2019\n",
    "Created by Meric Birol\n",
    "'''\n",
    "#-----------------------------\n",
    "#import modules\n",
    "import os\n",
    "import arcpy\n",
    "os.chdir(r'C:\\GISProgramming\\project')\n",
    "# Set environment settings\n",
    "\n",
    "arcpy.env.workspace = 'C:\\GISProgramming\\project\\project.gdb'\n",
    "arcpy.env.overwriteOutput = True\n",
    "\n",
    "\n",
    "#setting local variables\n",
    "#setting parameters\n",
    "    \n",
    "excelTable =  \"C:\\GISProgramming\\ExampleExcel_2.xlsx\"#arcpy.GetParameterAsText(0)\n",
    "mainFC =  'FC_Example'  #arcpy.GetParameterAsText(1)\n",
    "outputGDB = 'C:\\GISProgramming\\project\\project.gdb' # arcpy.GetParameterAsText(2)\n",
    "\n",
    "outputTable = 'injuries'\n",
    "outputTableNew = 'injuries_new'\n",
    "newFeaturesTable = 'new_injuries'\n",
    "geocodedTableNew = 'geocoded_injuries_new'\n",
    "copiedGeocodedTableNew= 'geocoded_injuries_new_copy'\n",
    "HCFacilitiesLocator = r\"C:\\GISProgramming\\project\\HCFacilitiesLocator.loc\"\n",
    "\n",
    "\n",
    "#-----------------------------\n",
    "#create functions\n",
    "def field_name_list(inputTable):\n",
    "    '''\n",
    "    This function takes one argument (for example, feature class or a dbf table) \n",
    "    and returns a list of field names.\n",
    "    '''\n",
    "    fieldNameList = [f.name.upper() for f in arcpy.ListFields(inputTable)]\n",
    "    return fieldNameList\n",
    "\n",
    "def check_field_names(testTable,baseTable):\n",
    "    ''' \n",
    "    This function returns field names which were different between \n",
    "    the new excel file (db table) and main feature class. \n",
    "    The function takes 2 arguments; testTable and baseTable.\n",
    "    '''\n",
    "    testTableFields=field_name_list(testTable)\n",
    "    baseTableFields=field_name_list(baseTable)\n",
    "\n",
    "    unmatched_list = [i for i in baseTableFields if not i in testTableFields if not 'SHAPE' in i]\n",
    "    unmatched_list2 = [i for i in testTableFields if not i in baseTableFields]\n",
    "\n",
    "    return (unmatched_list + unmatched_list2)\n",
    "\n",
    "\n",
    "\n",
    "#defines a function that stores the names of the fields which has the substring in the Field Map\n",
    "def field_map_keyword(inputTable,subString):\n",
    "    '''\n",
    "    This function takes two arguments, a feature class and a sub string as string,\n",
    "    This function creates field mapping objects of a file with field names which has substring text.     \n",
    "    '''\n",
    "    fieldMapping = [i for i in field_name_list(inputTable) if subString in i]\n",
    "    fMap = arcpy.FieldMappings()\n",
    "    for f in fieldMapping:\n",
    "        fieldMap = arcpy.FieldMap()\n",
    "        fieldMap.addInputField(inputTable,f)\n",
    "        fMap.addFieldMap(fieldMap)\n",
    "    return fMap\n",
    "#-----------------------------"
   ]
  },
  {
   "cell_type": "code",
   "execution_count": 2,
   "metadata": {},
   "outputs": [
    {
     "ename": "AttributeError",
     "evalue": "'ToolValidator' object has no attribute 'isLicensed'",
     "output_type": "error",
     "traceback": [
      "\u001b[1;31m---------------------------------------------------------------------------\u001b[0m",
      "\u001b[1;31mAttributeError\u001b[0m                            Traceback (most recent call last)",
      "\u001b[1;32mc:\\program files\\arcgis\\pro\\Resources\\ArcToolbox\\toolboxes\\Conversion Tools.tbx#ExcelToTable_conversion.InitializeParameters.py\u001b[0m in \u001b[0;36m<module>\u001b[1;34m\u001b[0m\n",
      "\u001b[1;31mAttributeError\u001b[0m: 'ToolValidator' object has no attribute 'isLicensed'"
     ]
    },
    {
     "ename": "AttributeError",
     "evalue": "'ToolValidator' object has no attribute 'isLicensed'",
     "output_type": "error",
     "traceback": [
      "\u001b[1;31m---------------------------------------------------------------------------\u001b[0m",
      "\u001b[1;31mAttributeError\u001b[0m                            Traceback (most recent call last)",
      "\u001b[1;32mc:\\program files\\arcgis\\pro\\Resources\\ArcToolbox\\toolboxes\\Conversion Tools.tbx#ExcelToTable_conversion.InitializeParameters.py\u001b[0m in \u001b[0;36m<module>\u001b[1;34m\u001b[0m\n",
      "\u001b[1;31mAttributeError\u001b[0m: 'ToolValidator' object has no attribute 'isLicensed'"
     ]
    },
    {
     "name": "stdout",
     "output_type": "stream",
     "text": [
      "Start Time: Thursday, December 5, 2019 5:00:17 PM\n",
      "Running script Excel To Table...\n",
      "Completed script Excel To Table...\n",
      "Succeeded at Thursday, December 5, 2019 5:00:21 PM (Elapsed Time: 4.74 seconds)\n"
     ]
    }
   ],
   "source": [
    "try:\n",
    "    #create database table from the excel sheet\n",
    "    arcpy.ExcelToTable_conversion(excelTable, outputTableNew, \"Sheet1\")\n",
    "    print(arcpy.GetMessages())\n",
    "except:\n",
    "    print(arcpy.GetMessages())    \n",
    "    "
   ]
  },
  {
   "cell_type": "code",
   "execution_count": null,
   "metadata": {},
   "outputs": [],
   "source": [
    "func = check_field_names(outputTableNew,mainFC)\n",
    "if len(func)!=0:\n",
    "    raise ValueError('The excel table names and the Main feature class names do not match')"
   ]
  },
  {
   "cell_type": "code",
   "execution_count": 3,
   "metadata": {},
   "outputs": [
    {
     "name": "stdout",
     "output_type": "stream",
     "text": [
      "Start Time: Thursday, December 12, 2019 8:40:52 AM\n",
      "Failed to execute. Parameters are not valid.\n",
      "WARNING 000970: The join field CLAIM_NUMBER in the join table FC_Example is not indexed. To improve performance, we recommend that an index be created for the join field in the join table.\n",
      "ERROR 000732: Join Table: Dataset injuries_new does not exist or is not supported\n",
      "Failed to execute (AddJoin).\n",
      "Failed at Thursday, December 12, 2019 8:40:52 AM (Elapsed Time: 0.20 seconds)\n"
     ]
    }
   ],
   "source": [
    "def update_existing_features(mainFeatureClass, newTable, fieldUpdated):\n",
    "    '''\n",
    "    Updates existing feature class fields with new table's fields.\n",
    "    This function takes 3 arguments:\n",
    "    argument 1: the feature class name to update\n",
    "    argument 2: the new table to get the updates\n",
    "    argument 3: which field to update\n",
    "    '''\n",
    "    try:\n",
    "        fieldName = \"claim_number\"\n",
    "\n",
    "        sql = \"{}.{} IS NULL\".format(mainFeatureClass, fieldName)\n",
    "        existingField = '{}.{}'.format(mainFeatureClass,fieldUpdated)\n",
    "        newField = '{}.{}'.format(newTable,fieldUpdated)\n",
    "        expression = '!' + newField + '!'\n",
    "        \n",
    "        joinTable=arcpy.AddJoin_management(mainFeatureClass, fieldName, \n",
    "                                           outputTableNew, fieldName,\n",
    "                                           'KEEP_ALL')\n",
    "        selectedFeatures = arcpy.SelectLayerByAttribute_management(joinTable, \n",
    "                                                                   \"NEW_SELECTION\",sql)\n",
    "        arcpy.CalculateField_management(selectedFeatures, \n",
    "                                        existingField, \n",
    "                                        expression,\n",
    "                                        \"PYTHON3\")\n",
    "        arcpy.SelectLayerByAttribute_management(joinTable, \"CLEAR_SELECTION\")\n",
    "        arcpy.RemoveJoin_management (joinTable,newTable)\n",
    "        print(arcpy.GetMessages())\n",
    "    except:\n",
    "        print(arcpy.GetMessages())\n",
    "update_existing_features(mainFC,outputTableNew,'CASE_STATUS')"
   ]
  },
  {
   "cell_type": "code",
   "execution_count": 1,
   "metadata": {},
   "outputs": [
    {
     "ename": "NameError",
     "evalue": "name 'outputTableNew' is not defined",
     "output_type": "error",
     "traceback": [
      "\u001b[1;31m---------------------------------------------------------------------------\u001b[0m",
      "\u001b[1;31mNameError\u001b[0m                                 Traceback (most recent call last)",
      "\u001b[1;32m<ipython-input-1-68db35558f16>\u001b[0m in \u001b[0;36m<module>\u001b[1;34m\u001b[0m\n\u001b[0;32m     21\u001b[0m         \u001b[0mprint\u001b[0m\u001b[1;33m(\u001b[0m\u001b[0marcpy\u001b[0m\u001b[1;33m.\u001b[0m\u001b[0mGetMessages\u001b[0m\u001b[1;33m(\u001b[0m\u001b[1;33m)\u001b[0m\u001b[1;33m)\u001b[0m\u001b[1;33m\u001b[0m\u001b[1;33m\u001b[0m\u001b[0m\n\u001b[0;32m     22\u001b[0m \u001b[1;33m\u001b[0m\u001b[0m\n\u001b[1;32m---> 23\u001b[1;33m \u001b[0mexport_new_records\u001b[0m\u001b[1;33m(\u001b[0m\u001b[0moutputTableNew\u001b[0m\u001b[1;33m,\u001b[0m \u001b[0mmainFC\u001b[0m\u001b[1;33m,\u001b[0m \u001b[0mnewFeaturesTable\u001b[0m\u001b[1;33m,\u001b[0m\u001b[1;34m'CLAIM_NUMBER'\u001b[0m\u001b[1;33m)\u001b[0m\u001b[1;33m\u001b[0m\u001b[1;33m\u001b[0m\u001b[0m\n\u001b[0m",
      "\u001b[1;31mNameError\u001b[0m: name 'outputTableNew' is not defined"
     ]
    }
   ],
   "source": [
    "def export_new_records(newTable, mainFeatureClass, outputName,fieldName):\n",
    "    '''\n",
    "    exports new records from the new table\n",
    "    this function takes 3 arguments:\n",
    "    argument 1: the new table to export features from\n",
    "    argument 2: the existing feature class \n",
    "    argument 3: output table name\n",
    "    '''\n",
    "    try:\n",
    "        fieldName = 'CLAIM_NUMBER'\n",
    "        sql = \"{}.{} IS NULL\".format(mainFeatureClass, fieldName)\n",
    "        joinTable=arcpy.AddJoin_management(newTable, fieldName,\n",
    "                                           mainFeatureClass, fieldName,\n",
    "                                           'KEEP_ALL')\n",
    "        selectedFeatures = arcpy.SelectLayerByAttribute_management(joinTable, \"NEW_SELECTION\",sql)\n",
    "        arcpy.RemoveJoin_management (joinTable,mainFeatureClass)\n",
    "        arcpy.TableToTable_conversion(selectedFeatures,outputGDB, outputName)\n",
    "        arcpy.SelectLayerByAttribute_management(joinTabe, \"CLEAR_SELECTION\")\n",
    "        print(arcpy.GetMessages())\n",
    "    except:\n",
    "        print(arcpy.GetMessages())\n",
    "        \n",
    "export_new_records(outputTableNew, mainFC, newFeaturesTable,'CLAIM_NUMBER')"
   ]
  },
  {
   "cell_type": "code",
   "execution_count": 8,
   "metadata": {},
   "outputs": [
    {
     "name": "stdout",
     "output_type": "stream",
     "text": [
      "Locating to the Bebee lake is completed succesfully\n",
      "Start Time: Thursday, December 5, 2019 5:03:53 PM\n",
      "Succeeded at Thursday, December 5, 2019 5:03:53 PM (Elapsed Time: 0.37 seconds)\n"
     ]
    }
   ],
   "source": [
    "try:\n",
    "\n",
    "    #geocoding the table with previously created locator\n",
    "    arcpy.GeocodeAddresses_geocoding(in_table=newFeaturesTable, \n",
    "                                     address_locator=HCFacilitiesLocator, \n",
    "                                     in_address_fields=\"'Single Line Input' Facility_ID VISIBLE NONE\",\n",
    "                                     out_feature_class=geocodedTableNew, \n",
    "                                     out_relationship_type=\"STATIC\", \n",
    "                                     country=\"\",\n",
    "                                     location_type=\"ROUTING_LOCATION\", \n",
    "                                     category=\"\")\n",
    "\n",
    "    # locating unmatched records to the beebe lake\n",
    "    # the given coordinates below is a point in the lake\n",
    "    fields = [\"Status\", \"SHAPE@XY\"]\n",
    "    cursor = arcpy.da.UpdateCursor(geocodedTableNew, fields )\n",
    "    xy = (441615.589230, 5002476.246096)\n",
    "    for row in cursor:\n",
    "        if row[0] == \"U\":\n",
    "            row[1]=xy\n",
    "        cursor.updateRow(row)\n",
    "    print('Locating to the Bebee lake is completed succesfully')\n",
    "\n",
    "    FieldMap = field_map_keyword(geocodedTableNew,'USER_')\n",
    "    #ArcGIS's feature class to feature class tool will be performed and the new feature class\n",
    "    #has only the fields which have the USER_ prefix\n",
    "\n",
    "    arcpy.FeatureClassToFeatureClass_conversion(in_features=geocodedTableNew, \n",
    "                                                out_path=outputGDB, \n",
    "                                                out_name=copiedGeocodedTableNew,\n",
    "                                                where_clause=\"\", \n",
    "                                                field_mapping=FieldMap)\n",
    "\n",
    "\n",
    "    #alter field names - delete \"user_\" prefix\n",
    "    subs = 'USER_'\n",
    "    for i in field_name_list(copiedGeocodedTableNew):\n",
    "        if subs in i:\n",
    "            arcpy.AlterField_management(in_table=copiedGeocodedTableNew,\n",
    "                                        field=i,\n",
    "                                        new_field_name=i[5:])\n",
    "\n",
    "    #append the data to the original feature class    \n",
    "    fieldMapping = []\n",
    "    for i in field_name_list(copiedGeocodedTableNew):\n",
    "        if not i=='OBJECTID':\n",
    "            if not i=='SHAPE':\n",
    "                fieldMapping.append(i)\n",
    "    fMap = arcpy.FieldMappings()\n",
    "    # for each field, create an individual field map, and add it to the field mapping object\n",
    "    for field in fieldMapping:\n",
    "        fieldMap = arcpy.FieldMap()\n",
    "        fieldMap.addInputField(copiedGeocodedTableNew, field)\n",
    "        fMap.addFieldMap(fieldMap)\n",
    "\n",
    "    arcpy.Append_management(inputs=copiedGeocodedTableNew, \n",
    "                            target=mainFC, \n",
    "                            schema_type=\"NO_TEST\", \n",
    "                            field_mapping=fMap)\n",
    "except:\n",
    "    print(arcpy.GetMessages())\n"
   ]
  },
  {
   "cell_type": "code",
   "execution_count": null,
   "metadata": {
    "scrolled": true
   },
   "outputs": [],
   "source": [
    "finally:\n",
    "    try:\n",
    "        i = [outputTable,outputTableNew,newFeaturesTable,geocodedTableNew,copiedGeocodedTableNew]\n",
    "        for j in i:\n",
    "            if arcpy.Exists(j):\n",
    "                arcpy.Delete_management(j)\n",
    "        print(arcpy.GetMessages())\n",
    "    except:\n",
    "        print(arcpy.GetMessages())"
   ]
  }
 ],
 "metadata": {
  "kernelspec": {
   "display_name": "Python 3",
   "language": "python",
   "name": "python3"
  },
  "language_info": {
   "codemirror_mode": {
    "name": "ipython",
    "version": 3
   },
   "file_extension": ".py",
   "mimetype": "text/x-python",
   "name": "python",
   "nbconvert_exporter": "python",
   "pygments_lexer": "ipython3",
   "version": "3.6.8"
  }
 },
 "nbformat": 4,
 "nbformat_minor": 2
}
